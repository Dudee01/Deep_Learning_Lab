{
  "cells": [
    {
      "cell_type": "markdown",
      "metadata": {
        "id": "qYF3xxkQGLGq"
      },
      "source": [
        "#Load the Libraries"
      ]
    },
    {
      "cell_type": "code",
      "execution_count": 2,
      "metadata": {
        "id": "a4kxby9yF7oy"
      },
      "outputs": [],
      "source": [
        "import torch\n",
        "import torch.nn as nn\n",
        "from torchvision import datasets, transforms\n",
        "from torch.utils.data import DataLoader"
      ]
    },
    {
      "cell_type": "code",
      "execution_count": 3,
      "metadata": {
        "id": "ZFQ6p1NOF-TK"
      },
      "outputs": [],
      "source": [
        "#Transforms\n",
        "transform = transforms.Compose([\n",
        "    transforms.ToTensor(),\n",
        "    #1st tuple is mean value ans 2nd tuple is SD on rgb channels\n",
        "    transforms.Normalize((0.5,0.5,0.5), (0.5,0.5,0.5))\n",
        "])"
      ]
    },
    {
      "cell_type": "markdown",
      "metadata": {
        "id": "WsP4hbnCJXm8"
      },
      "source": [
        "#Download the datasets"
      ]
    },
    {
      "cell_type": "code",
      "execution_count": 4,
      "metadata": {
        "colab": {
          "base_uri": "https://localhost:8080/"
        },
        "id": "dIoUf7yAHzS-",
        "outputId": "95aaf9b2-ffce-4630-a046-d8383ebee6d7"
      },
      "outputs": [
        {
          "name": "stderr",
          "output_type": "stream",
          "text": [
            "100%|██████████| 170M/170M [00:06<00:00, 25.8MB/s]\n"
          ]
        }
      ],
      "source": [
        "train_data = datasets.CIFAR10(root='data', train=True, download=True, transform=transform)\n",
        "test_data = datasets.CIFAR10(root='data', train=False, download=True, transform=transform)"
      ]
    },
    {
      "cell_type": "code",
      "execution_count": 5,
      "metadata": {
        "id": "9QsM6-DmL9QB"
      },
      "outputs": [],
      "source": [
        "#dataloader\n",
        "\n",
        "train_loader = DataLoader(train_data, batch_size=64, shuffle=True)\n",
        "test_loader = DataLoader(test_data, batch_size=64, shuffle=True)"
      ]
    },
    {
      "cell_type": "markdown",
      "metadata": {
        "id": "3w0JW6SxNNUW"
      },
      "source": [
        "#Build the Architecture"
      ]
    },
    {
      "cell_type": "code",
      "execution_count": 9,
      "metadata": {
        "id": "LokGnurqMkRo"
      },
      "outputs": [],
      "source": [
        "class CNN_Cifar10(nn.Module):\n",
        "  def __init__(self):\n",
        "    super(CNN_Cifar10, self).__init__() # Corrected super call\n",
        "\n",
        "    #feature extractor\n",
        "    self.cnn1 = nn.Conv2d(in_channels=3, out_channels=6, kernel_size=5)\n",
        "    self.pool1 = nn.MaxPool2d(2,2)\n",
        "    self.cnn2 = nn.Conv2d(in_channels=6, out_channels=16, kernel_size=3)\n",
        "    self.pool2 = nn.MaxPool2d(2,2)\n",
        "\n",
        "    #Classifier\n",
        "    self.flatten = nn.Flatten() # Instantiate Flatten module\n",
        "    self.fc1 = nn.Linear(6*6*16,4096)\n",
        "    self.fc2 = nn.Linear(4096, 2048)\n",
        "    self.fc3 = nn.Linear(2048, 1024)\n",
        "    self.fc4 = nn.Linear(1024, 512)\n",
        "    self.fc5 = nn.Linear(512, 256)\n",
        "    self.fc6 = nn.Linear(256, 10)\n",
        "\n",
        "  def forward(self, x):\n",
        "    x = self.cnn1(x)\n",
        "    x = nn.ReLU()(x) # Use instantiated ReLU\n",
        "    x = self.pool1(x)\n",
        "\n",
        "    x = self.cnn2(x) # Apply cnn2 first\n",
        "    x = nn.ReLU()(x) # Use instantiated ReLU\n",
        "    x = self.pool2(x) # Apply pool2\n",
        "\n",
        "    x = self.flatten(x) # Use instantiated Flatten\n",
        "\n",
        "    x = self.fc1(x)\n",
        "    x = nn.ReLU()(x) # Use instantiated ReLU\n",
        "    x = self.fc2(x)\n",
        "    x = nn.ReLU()(x) # Use instantiated ReLU\n",
        "    x = self.fc3(x)\n",
        "    x = nn.ReLU()(x) # Use instantiated ReLU\n",
        "    x = self.fc4(x)\n",
        "    x = nn.ReLU()(x) # Use instantiated ReLU\n",
        "    x = self.fc5(x)\n",
        "    x = nn.ReLU()(x) # Use instantiated ReLU\n",
        "    x = self.fc6(x)\n",
        "\n",
        "    return x"
      ]
    },
    {
      "cell_type": "code",
      "execution_count": 10,
      "metadata": {
        "id": "ClQeF5zeaxSS"
      },
      "outputs": [],
      "source": [
        "model = CNN_Cifar10()\n",
        "criterian = nn.CrossEntropyLoss()\n",
        "optimizer = torch.optim.Adam(model.parameters(), lr=0.001)"
      ]
    },
    {
      "cell_type": "markdown",
      "metadata": {
        "id": "NneMKhkmdCDJ"
      },
      "source": [
        "#Train"
      ]
    },
    {
      "cell_type": "code",
      "execution_count": null,
      "metadata": {
        "id": "RYhcS7vBdDNh"
      },
      "outputs": [],
      "source": [
        "for epoch in range(10):\n",
        "  for i, (images, labels) in enumerate(train_loader):\n",
        "    outputs = model(images)\n",
        "    loss = criterian(outputs, labels)\n",
        "    optimizer.zero_grad()\n",
        "    loss.backward()\n",
        "    optimizer.step()"
      ]
    },
    {
      "cell_type": "code",
      "execution_count": null,
      "metadata": {
        "id": "wpnm-djwfJua"
      },
      "outputs": [],
      "source": [
        "_,predicted = torch.max(outputs.data,1)"
      ]
    }
  ],
  "metadata": {
    "colab": {
      "provenance": []
    },
    "kernelspec": {
      "display_name": "venv",
      "language": "python",
      "name": "python3"
    },
    "language_info": {
      "name": "python",
      "version": "3.12.10"
    }
  },
  "nbformat": 4,
  "nbformat_minor": 0
}
